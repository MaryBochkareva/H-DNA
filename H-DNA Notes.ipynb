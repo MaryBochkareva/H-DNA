{
 "cells": [
  {
   "cell_type": "markdown",
   "metadata": {},
   "source": [
    "##  Подгружаем необходимые библиотеки\n",
    "\n",
    "Работа выполнена с помощью Python 3.6.9."
   ]
  },
  {
   "cell_type": "code",
   "execution_count": 1,
   "metadata": {},
   "outputs": [
    {
     "name": "stdout",
     "output_type": "stream",
     "text": [
      "3.6.9\n"
     ]
    }
   ],
   "source": [
    "from platform import python_version\n",
    "\n",
    "print(python_version())"
   ]
  },
  {
   "cell_type": "code",
   "execution_count": 9,
   "metadata": {},
   "outputs": [],
   "source": [
    "import numpy as np\n",
    "import pandas as pd\n",
    "import seaborn as sns\n",
    "import matplotlib.pyplot as plt\n",
    "from scipy import stats\n",
    "import bedtools2\n",
    "from itertools import product\n",
    "from sklearn.model_selection import train_test_split\n",
    "from sklearn.model_selection import ShuffleSplit\n",
    "from sklearn.linear_model import LogisticRegression\n",
    "from sklearn.metrics import roc_auc_score, accuracy_score, log_loss\n",
    "from sklearn.metrics import classification_report, plot_confusion_matrix\n",
    "from imblearn.over_sampling import SMOTE\n",
    "from sklearn.ensemble import RandomForestClassifier\n",
    "# %pylab inline\n",
    "import tensorflow as tf\n",
    "\n",
    "sns.set(color_codes=True)"
   ]
  },
  {
   "cell_type": "code",
   "execution_count": 10,
   "metadata": {},
   "outputs": [],
   "source": [
    "# import cv2\n",
    "import torch\n",
    "import torch.nn as nn\n",
    "import torchvision.transforms as transforms\n",
    "import torchvision\n",
    "import torchvision.datasets as datasets\n",
    "from torch.autograd import Variable"
   ]
  },
  {
   "cell_type": "markdown",
   "metadata": {},
   "source": [
    "# Подгружаем данные"
   ]
  },
  {
   "cell_type": "code",
   "execution_count": 11,
   "metadata": {},
   "outputs": [],
   "source": [
    "!bedtools2/bin/bedtools getfasta -fi GRCh38.p5.genome.fa -bed GSM3417036_TriplexDNASeq_plus_RNA_ligation.bed -fo gen_outoput.fasta"
   ]
  },
  {
   "cell_type": "code",
   "execution_count": 107,
   "metadata": {},
   "outputs": [
    {
     "name": "stdout",
     "output_type": "stream",
     "text": [
      "5094 2547\n"
     ]
    }
   ],
   "source": [
    "f = open(\"gen_outoput.fasta\", \"r\")\n",
    "count_lines = 0\n",
    "\n",
    "chromo_list = []\n",
    "chromo = \"\"\n",
    "\n",
    "while True:\n",
    "    line = f.readline()\n",
    "    \n",
    "    if not line:\n",
    "        break\n",
    "\n",
    "    count_lines += 1\n",
    "    \n",
    "    if line[0] == \">\":\n",
    "        chromo_list.append(chromo)\n",
    "        chromo = \"\"\n",
    "    else:\n",
    "        chromo += line\n",
    "    \n",
    "f.close()\n",
    "\n",
    "lengths = [len(x) for x in chromo_list]\n",
    "print(count_lines, len(chromo_list))"
   ]
  },
  {
   "cell_type": "markdown",
   "metadata": {},
   "source": [
    "### Распределение длин участков DNA"
   ]
  },
  {
   "cell_type": "code",
   "execution_count": 108,
   "metadata": {},
   "outputs": [
    {
     "data": {
      "text/plain": [
       "<matplotlib.axes._subplots.AxesSubplot at 0x7fca46357dd8>"
      ]
     },
     "execution_count": 108,
     "metadata": {},
     "output_type": "execute_result"
    },
    {
     "data": {
      "image/png": "[encoded data removed]",
      "text/plain": [
       "<Figure size 432x288 with 1 Axes>"
      ]
     },
     "metadata": {
      "needs_background": "light"
     },
     "output_type": "display_data"
    }
   ],
   "source": [
    "x = np.array(lengths)\n",
    "sns.distplot(x)"
   ]
  },
  {
   "cell_type": "code",
   "execution_count": 109,
   "metadata": {},
   "outputs": [
    {
     "data": {
      "text/plain": [
       "694.8551236749116"
      ]
     },
     "execution_count": 109,
     "metadata": {},
     "output_type": "execute_result"
    }
   ],
   "source": [
    "np.mean(x)"
   ]
  },
  {
   "cell_type": "code",
   "execution_count": 110,
   "metadata": {},
   "outputs": [
    {
     "data": {
      "text/plain": [
       "1501.0"
      ]
     },
     "execution_count": 110,
     "metadata": {},
     "output_type": "execute_result"
    }
   ],
   "source": [
    "np.percentile(x, 95)"
   ]
  },
  {
   "cell_type": "markdown",
   "metadata": {},
   "source": [
    "### Построение выборки"
   ]
  },
  {
   "cell_type": "markdown",
   "metadata": {},
   "source": [
    "Центрируем районы с участками триплксных DNA:"
   ]
  },
  {
   "cell_type": "code",
   "execution_count": 654,
   "metadata": {},
   "outputs": [],
   "source": [
    "!awk 'BEGIN{ OFS=\"\\t\"; }{ len=$3-$2; center=$2+int(len/2); flank=750; print $1, center-flank, center+flank; }' GSM3417036_TriplexDNASeq_plus_RNA_ligation.bed  > pos.bed"
   ]
  },
  {
   "cell_type": "code",
   "execution_count": 655,
   "metadata": {},
   "outputs": [],
   "source": [
    "!bedtools2/bin/bedtools getfasta -fi GRCh38.p5.genome.fa -bed pos.bed -fo gen_pos_outoput.fasta"
   ]
  },
  {
   "cell_type": "markdown",
   "metadata": {},
   "source": [
    "Выбираем 3 тысячи рандомных участков DNA, не пересекающихся с триплексными участками:"
   ]
  },
  {
   "cell_type": "code",
   "execution_count": 656,
   "metadata": {},
   "outputs": [],
   "source": [
    "!bedtools2/bin/bedtools random -g GRCh38.p5.genome.fa.fai -l 1500 -n 3000 -seed 71346 > random.bed"
   ]
  },
  {
   "cell_type": "code",
   "execution_count": 657,
   "metadata": {},
   "outputs": [],
   "source": [
    "# Shift intervals, but do not place them in the foreground regions\n",
    "!bedtools2/bin/bedtools shuffle -i random.bed -g GRCh38.p5.genome.fa.fai -excl GSM3417036_TriplexDNASeq_plus_RNA_ligation.bed > rand_pos_excl.bed"
   ]
  },
  {
   "cell_type": "code",
   "execution_count": 658,
   "metadata": {},
   "outputs": [],
   "source": [
    "!bedtools2/bin/bedtools getfasta -fi GRCh38.p5.genome.fa -bed rand_pos_excl.bed -fo gen_rand_outoput.fasta"
   ]
  },
  {
   "cell_type": "markdown",
   "metadata": {},
   "source": [
    "Извлекаем выборку для CNN и других моделей:"
   ]
  },
  {
   "cell_type": "code",
   "execution_count": 659,
   "metadata": {},
   "outputs": [
    {
     "name": "stdout",
     "output_type": "stream",
     "text": [
      "Кол-во строк в файле: 5094\n",
      "Кол-во объектов в выборке: 2533\n",
      "Длина одного объекта: 1500\n",
      "Check one-hot: 3799500 0\n",
      "Check nucleos: 1499 1498\n"
     ]
    }
   ],
   "source": [
    "f = open(\"gen_pos_outoput.fasta\", \"r\")\n",
    "count_lines = 0\n",
    "\n",
    "chromo_list = []\n",
    "chromo = \"\"\n",
    "\n",
    "while True:\n",
    "    line = f.readline()\n",
    "    \n",
    "    if not line:\n",
    "        break\n",
    "\n",
    "    count_lines += 1\n",
    "    \n",
    "    if line[0] == \">\":\n",
    "        if \"N\" in chromo:\n",
    "            chromo = \"\"\n",
    "        if chromo:\n",
    "            chromo_list.append(chromo[:-1])\n",
    "        chromo = \"\"\n",
    "    else:\n",
    "        chromo += line\n",
    "    \n",
    "f.close()\n",
    "if chromo:\n",
    "    chromo_list.append(chromo[:-1])\n",
    "\n",
    "lengths = [len(x) for x in chromo_list]\n",
    "print(\"Кол-во строк в файле:\", count_lines)\n",
    "print(\"Кол-во объектов в выборке:\", len(chromo_list))\n",
    "print(\"Длина одного объекта:\", len(chromo_list[0]))\n",
    "\n",
    "onehot_dict = {\n",
    "    \"A\" : [1, 0, 0, 0],\n",
    "    \"C\" : [0, 1, 0, 0],\n",
    "    \"T\" : [0, 0, 1, 0],\n",
    "    \"G\" : [0, 0, 0, 1]\n",
    "}\n",
    "\n",
    "count = 0\n",
    "\n",
    "X_cnn_true = np.zeros((len(chromo_list), len(chromo_list[0]), 4))\n",
    "for i in range(len(chromo_list)):\n",
    "    for j in range(len(chromo_list[0])):\n",
    "        if chromo_list[i][j] == 'A':\n",
    "            X_cnn_true[i, j, 0] = 1\n",
    "        elif chromo_list[i][j] == 'C':\n",
    "            X_cnn_true[i, j, 1] = 1\n",
    "        elif chromo_list[i][j] == 'T':\n",
    "            X_cnn_true[i, j, 2] = 1\n",
    "        elif chromo_list[i][j] == 'G':\n",
    "            X_cnn_true[i, j, 3] = 1\n",
    "        elif chromo_list[i][j] == 'N':\n",
    "            count += 1\n",
    "\n",
    "print(\"Check one-hot:\", int(np.sum(X_cnn_true)), count)\n",
    "\n",
    "dinucleotide = dict.fromkeys([''.join(x) for x in list(product('ACTG', 'ACTG'))], 0)\n",
    "nucleotide_triplets = dict.fromkeys([''.join(x) for x in list(product('ACTG', 'ACTG', 'ACTG'))], 0)\n",
    "\n",
    "X_true = np.zeros((len(chromo_list), 80))\n",
    "\n",
    "for i in range(len(chromo_list)):\n",
    "    for j in range(len(chromo_list[0]) - 1):\n",
    "        dinucleotide[chromo_list[i][j:j+2]] += 1\n",
    "    for j in range(len(chromo_list[0]) - 2):\n",
    "        nucleotide_triplets[chromo_list[i][j:j+3]] += 1\n",
    "    dinucleotide = [dinucleotide[key] for key in sorted(dinucleotide.keys())]\n",
    "    nucleotide_triplets = [nucleotide_triplets[key] for key in sorted(nucleotide_triplets.keys())]\n",
    "    \n",
    "    X_true[i, :16] = dinucleotide\n",
    "    X_true[i, 16:] = nucleotide_triplets\n",
    "    \n",
    "    dinucleotide = dict.fromkeys([''.join(x) for x in list(product('ACTG', 'ACTG'))], 0)\n",
    "    nucleotide_triplets = dict.fromkeys([''.join(x) for x in list(product('ACTG', 'ACTG', 'ACTG'))], 0)\n",
    "\n",
    "print(\"Check nucleos:\", int(np.sum(X_true[i, :16])), int(np.sum(X_true[i, 16:]))) "
   ]
  },
  {
   "cell_type": "code",
   "execution_count": 660,
   "metadata": {},
   "outputs": [
    {
     "name": "stdout",
     "output_type": "stream",
     "text": [
      "Кол-во строк в файле: 6000\n",
      "Кол-во объектов в выборке: 2854\n",
      "Длина одного объекта: 1500\n",
      "Check one-hot: 4281000 0\n",
      "Check nucleos: 1499 1498\n"
     ]
    }
   ],
   "source": [
    "f = open(\"gen_rand_outoput.fasta\", \"r\")\n",
    "count_lines = 0\n",
    "\n",
    "chromo_list = []\n",
    "chromo = \"\"\n",
    "\n",
    "while True:\n",
    "    line = f.readline()\n",
    "    \n",
    "    if not line:\n",
    "        break\n",
    "\n",
    "    count_lines += 1\n",
    "    \n",
    "    if line[0] == \">\":\n",
    "        if \"N\" in chromo:\n",
    "            chromo = \"\"\n",
    "        if chromo:\n",
    "            chromo_list.append(chromo[:-1])\n",
    "        chromo = \"\"\n",
    "    else:\n",
    "        chromo += line\n",
    "    \n",
    "f.close()\n",
    "if chromo:\n",
    "    chromo_list.append(chromo[:-1])\n",
    "\n",
    "lengths = [len(x) for x in chromo_list]\n",
    "print(\"Кол-во строк в файле:\", count_lines)\n",
    "print(\"Кол-во объектов в выборке:\", len(chromo_list))\n",
    "print(\"Длина одного объекта:\", len(chromo_list[0]))\n",
    "\n",
    "onehot_dict = {\n",
    "    \"A\" : [1, 0, 0, 0],\n",
    "    \"C\" : [0, 1, 0, 0],\n",
    "    \"T\" : [0, 0, 1, 0],\n",
    "    \"G\" : [0, 0, 0, 1]\n",
    "}\n",
    "\n",
    "count = 0\n",
    "\n",
    "X_cnn_neg = np.zeros((len(chromo_list), len(chromo_list[0]), 4))\n",
    "for i in range(len(chromo_list)):\n",
    "    for j in range(len(chromo_list[0])):\n",
    "        if chromo_list[i][j] == 'A':\n",
    "            X_cnn_neg[i, j, 0] = 1\n",
    "        elif chromo_list[i][j] == 'C':\n",
    "            X_cnn_neg[i, j, 1] = 1\n",
    "        elif chromo_list[i][j] == 'T':\n",
    "            X_cnn_neg[i, j, 2] = 1\n",
    "        elif chromo_list[i][j] == 'G':\n",
    "            X_cnn_neg[i, j, 3] = 1\n",
    "        elif chromo_list[i][j] == 'N':\n",
    "            count += 1\n",
    "\n",
    "print(\"Check one-hot:\", int(np.sum(X_cnn_neg)), count)\n",
    "\n",
    "dinucleotide = dict.fromkeys([''.join(x) for x in list(product('ACTG', 'ACTG'))], 0)\n",
    "nucleotide_triplets = dict.fromkeys([''.join(x) for x in list(product('ACTG', 'ACTG', 'ACTG'))], 0)\n",
    "\n",
    "X_neg = np.zeros((len(chromo_list), 80))\n",
    "\n",
    "for i in range(len(chromo_list)):\n",
    "    for j in range(len(chromo_list[0]) - 1):\n",
    "        dinucleotide[chromo_list[i][j:j+2]] += 1\n",
    "    for j in range(len(chromo_list[0]) - 2):\n",
    "        nucleotide_triplets[chromo_list[i][j:j+3]] += 1\n",
    "    dinucleotide = [dinucleotide[key] for key in sorted(dinucleotide.keys())]\n",
    "    nucleotide_triplets = [nucleotide_triplets[key] for key in sorted(nucleotide_triplets.keys())]\n",
    "    \n",
    "    X_neg[i, :16] = dinucleotide\n",
    "    X_neg[i, 16:] = nucleotide_triplets\n",
    "    \n",
    "    dinucleotide = dict.fromkeys([''.join(x) for x in list(product('ACTG', 'ACTG'))], 0)\n",
    "    nucleotide_triplets = dict.fromkeys([''.join(x) for x in list(product('ACTG', 'ACTG', 'ACTG'))], 0)\n",
    "\n",
    "print(\"Check nucleos:\", int(np.sum(X_neg[i, :16])), int(np.sum(X_neg[i, 16:]))) "
   ]
  },
  {
   "cell_type": "code",
   "execution_count": 661,
   "metadata": {},
   "outputs": [
    {
     "name": "stdout",
     "output_type": "stream",
     "text": [
      "Shape check: (5387, 1500, 4) (5387, 80)\n",
      "Positive check: 2533 2533\n"
     ]
    }
   ],
   "source": [
    "X_cnn = np.concatenate((X_cnn_true, X_cnn_neg), axis=0)\n",
    "y_cnn = np.concatenate((np.ones((X_cnn_true.shape[0])), np.zeros((X_cnn_neg.shape[0]))), axis=0)\n",
    "\n",
    "X = np.concatenate((X_true, X_neg), axis=0)\n",
    "y = np.concatenate((np.ones((X_true.shape[0])), np.zeros((X_neg.shape[0]))), axis=0)\n",
    "\n",
    "print(\"Shape check:\", X_cnn.shape, X.shape)\n",
    "print(\"Positive check:\", int(np.sum(y_cnn)), int(np.sum(y)))"
   ]
  },
  {
   "cell_type": "markdown",
   "metadata": {},
   "source": [
    "Делим выборки на обучающую и тестовую:"
   ]
  },
  {
   "cell_type": "code",
   "execution_count": 662,
   "metadata": {},
   "outputs": [],
   "source": [
    "X_cnn_train, X_cnn_test, y_cnn_train, y_cnn_test = train_test_split(X_cnn, y_cnn, test_size=0.33, random_state=42)\n",
    "X_train, X_test, y_train, y_test = train_test_split(X, y, test_size=0.33, random_state=42)"
   ]
  },
  {
   "cell_type": "markdown",
   "metadata": {},
   "source": [
    "## Логистическая регрессия"
   ]
  },
  {
   "cell_type": "code",
   "execution_count": 667,
   "metadata": {},
   "outputs": [
    {
     "name": "stdout",
     "output_type": "stream",
     "text": [
      "ROC-AUC: 0.780, ACC: 0.719\n",
      "Log Loss: 0.568\n",
      "              precision    recall  f1-score   support\n",
      "\n",
      "         0.0       0.72      0.75      0.74       851\n",
      "         1.0       0.71      0.68      0.70       766\n",
      "\n",
      "    accuracy                           0.72      1617\n",
      "   macro avg       0.72      0.72      0.72      1617\n",
      "weighted avg       0.72      0.72      0.72      1617\n",
      "\n"
     ]
    },
    {
     "data": {
      "image/png": "[encoded data removed]",
      "text/plain": [
       "<Figure size 432x288 with 2 Axes>"
      ]
     },
     "metadata": {
      "needs_background": "light"
     },
     "output_type": "display_data"
    }
   ],
   "source": [
    "cv = ShuffleSplit(n_splits=1, test_size=0.3)\n",
    "X_norm = X / np.linalg.norm(X) * 100\n",
    "for train_ids, test_ids in cv.split(X_norm):\n",
    "    lr = LogisticRegression(max_iter=100)\n",
    "    lr.fit(X_norm[train_ids], y[train_ids])\n",
    "    preds = lr.predict_proba(X_norm[test_ids])[:,1]\n",
    "    print('ROC-AUC: %.3f, ACC: %.3f' % (roc_auc_score(y[test_ids], preds), \n",
    "                                        accuracy_score(y[test_ids], (preds > 0.5).astype(int))))\n",
    "    print('Log Loss: %.3f' % (log_loss(y[test_ids], preds)))\n",
    "    y_pred = lr.predict(X_norm[test_ids])\n",
    "    print(classification_report(y[test_ids], y_pred))\n",
    "    disp = plot_confusion_matrix(lr, X_norm[test_ids], y[test_ids])"
   ]
  },
  {
   "cell_type": "markdown",
   "metadata": {},
   "source": [
    "## Решающие деревья"
   ]
  },
  {
   "cell_type": "code",
   "execution_count": 668,
   "metadata": {},
   "outputs": [
    {
     "name": "stdout",
     "output_type": "stream",
     "text": [
      "ROC-AUC: 0.788, ACC: 0.714\n",
      "Log Loss: 0.554\n",
      "              precision    recall  f1-score   support\n",
      "\n",
      "         0.0       0.72      0.74      0.73       842\n",
      "         1.0       0.71      0.69      0.70       775\n",
      "\n",
      "    accuracy                           0.71      1617\n",
      "   macro avg       0.71      0.71      0.71      1617\n",
      "weighted avg       0.71      0.71      0.71      1617\n",
      "\n",
      "TEST:\n",
      "Confusion matrix:\n",
      "   |  +  |  - \n",
      " + | 532|  219\n",
      " - |  243| 623\n",
      "TPR: 0.686\n",
      "TNR: 0.740\n",
      "PPV: 0.708\n",
      "NPV: 0.719\n",
      "Accuracy: 0.714\n",
      "F1 score: 0.697\n"
     ]
    },
    {
     "data": {
      "image/png": "[encoded data removed]",
      "text/plain": [
       "<Figure size 432x288 with 2 Axes>"
      ]
     },
     "metadata": {
      "needs_background": "light"
     },
     "output_type": "display_data"
    }
   ],
   "source": [
    "cv = ShuffleSplit(n_splits=1, test_size=0.3)\n",
    "X_norm = X\n",
    "for train_ids, test_ids in cv.split(X_norm):\n",
    "    lr = RandomForestClassifier(n_estimators=100)\n",
    "    lr.fit(X_norm[train_ids], y[train_ids])\n",
    "    preds = lr.predict_proba(X_norm[test_ids])[:, 1]\n",
    "    print('ROC-AUC: %.3f, ACC: %.3f' % (roc_auc_score(y[test_ids], preds), \n",
    "                                        accuracy_score(y[test_ids], (preds > 0.5).astype(int))))\n",
    "    print('Log Loss: %.3f' % (log_loss(y[test_ids], preds)))\n",
    "    y_pred = lr.predict(X_norm[test_ids])\n",
    "    print(classification_report(y[test_ids], y_pred))\n",
    "    disp = plot_confusion_matrix(lr, X_norm[test_ids], y[test_ids])\n",
    "    \n",
    "    print(\"TEST:\")\n",
    "    \n",
    "    pred = y_pred\n",
    "    target = y[test_ids]\n",
    "    \n",
    "    tp = np.sum(np.logical_and(np.array(np.equal(pred, target)).astype(bool), pred == 1))\n",
    "    tn = np.sum(np.logical_and(np.array(np.equal(pred, target)).astype(bool), pred == 0))\n",
    "    fp = np.sum(np.logical_and(np.array(np.not_equal(pred, target)).astype(bool), pred == 1))\n",
    "    fn = np.sum(np.logical_and(np.array(np.not_equal(pred, target)).astype(bool), pred == 0))\n",
    "    \n",
    "    print(\"Confusion matrix:\")\n",
    "    print(\"   |  +  |  - \")\n",
    "    print(\" + | \", tp ,\"|  \", fp, sep='')\n",
    "    print(\" - |  \", fn ,\"| \", tn, sep='')\n",
    "\n",
    "    TPR = tp/(tp + fn)\n",
    "    TNR = tn/(tn + fp)\n",
    "    PPV = tp/(tp + fp)\n",
    "    NPV = tn/(tn + fn)\n",
    "\n",
    "    print(\"TPR: %.3f\" % TPR)\n",
    "    print(\"TNR: %.3f\" % TNR)\n",
    "    print(\"PPV: %.3f\" % PPV)\n",
    "    print(\"NPV: %.3f\" % NPV)\n",
    "\n",
    "    acc = (tp + tn) / (tp + tn + fp + fn)\n",
    "    f1_score = 2 * tp / (2*tp + fp + fn)\n",
    "\n",
    "    print(\"Accuracy: %.3f\" % acc)\n",
    "    print(\"F1 score: %.3f\" % f1_score)"
   ]
  },
  {
   "cell_type": "markdown",
   "metadata": {},
   "source": [
    "## Multi-layer Perceptron classifier"
   ]
  },
  {
   "cell_type": "code",
   "execution_count": 675,
   "metadata": {},
   "outputs": [
    {
     "name": "stdout",
     "output_type": "stream",
     "text": [
      "ROC-AUC: 0.972, ACC: 0.915\n",
      "Log Loss: 0.277\n",
      "              precision    recall  f1-score   support\n",
      "\n",
      "         0.0       0.92      0.92      0.92      1437\n",
      "         1.0       0.91      0.91      0.91      1257\n",
      "\n",
      "    accuracy                           0.91      2694\n",
      "   macro avg       0.91      0.91      0.91      2694\n",
      "weighted avg       0.91      0.91      0.91      2694\n",
      "\n"
     ]
    },
    {
     "data": {
      "text/plain": [
       "<sklearn.metrics._plot.confusion_matrix.ConfusionMatrixDisplay at 0x7fca54d3ac50>"
      ]
     },
     "execution_count": 675,
     "metadata": {},
     "output_type": "execute_result"
    },
    {
     "data": {
      "image/png": "[encoded data removed]",
      "text/plain": [
       "<Figure size 432x288 with 2 Axes>"
      ]
     },
     "metadata": {
      "needs_background": "light"
     },
     "output_type": "display_data"
    }
   ],
   "source": [
    "from sklearn.neural_network import MLPClassifier\n",
    "\n",
    "clf = MLPClassifier(solver='lbfgs', alpha=1e-5,\n",
    "                hidden_layer_sizes=(5, 2), random_state=1)\n",
    "\n",
    "X_train, X_test, y_train, y_test = train_test_split(X, y, test_size=0.5, random_state=0)\n",
    "clf.fit(X_train, y_train)\n",
    "\n",
    "preds = lr.predict_proba(X_test)[:, 1]\n",
    "print('ROC-AUC: %.3f, ACC: %.3f' % (roc_auc_score(y_test, preds), \n",
    "        accuracy_score(y_test, (preds > 0.5).astype(int))))\n",
    "print('Log Loss: %.3f' % (log_loss(y_test, preds)))\n",
    "    \n",
    "\n",
    "pred = lr.predict(X_test)\n",
    "target = y_test\n",
    "print(classification_report(target, pred))\n",
    "\n",
    "plot_confusion_matrix(lr, X_test, y_test)"
   ]
  },
  {
   "cell_type": "code",
   "execution_count": 677,
   "metadata": {},
   "outputs": [
    {
     "name": "stdout",
     "output_type": "stream",
     "text": [
      "Confusion matrix:\n",
      "   | + | - \n",
      " + |1141|113\n",
      " - |116|1324\n",
      "TPR: 0.908\n",
      "TNR: 0.921\n",
      "PPV: 0.910\n",
      "NPV: 0.919\n",
      "Accuracy: 0.915\n",
      "F1 score: 0.909\n"
     ]
    }
   ],
   "source": [
    "tp = np.sum(np.logical_and(np.array(np.equal(pred, target)).astype(bool), pred == 1))\n",
    "tn = np.sum(np.logical_and(np.array(np.equal(pred, target)).astype(bool), pred == 0))\n",
    "fp = np.sum(np.logical_and(np.array(np.not_equal(pred, target)).astype(bool), pred == 1))\n",
    "fn = np.sum(np.logical_and(np.array(np.not_equal(pred, target)).astype(bool), pred == 0))\n",
    "\n",
    "print(\"Confusion matrix:\")\n",
    "print(\"   | + | - \")\n",
    "print(\" + |\", tp ,\"|\", fp, sep='')\n",
    "print(\" - |\", fn ,\"|\", tn, sep='')\n",
    "\n",
    "TPR = tp/(tp + fn)\n",
    "TNR = tn/(tn + fp)\n",
    "PPV = tp/(tp + fp)\n",
    "NPV = tn/(tn + fn)\n",
    "\n",
    "print(\"TPR: %.3f\" % TPR)\n",
    "print(\"TNR: %.3f\" % TNR)\n",
    "print(\"PPV: %.3f\" % PPV)\n",
    "print(\"NPV: %.3f\" % NPV)\n",
    "\n",
    "acc = (tp + tn) / (tp + tn + fp + fn)\n",
    "f1_score = 2 * tp / (2*tp + fp + fn)\n",
    "\n",
    "print(\"Accuracy: %.3f\" % acc)\n",
    "print(\"F1 score: %.3f\" % f1_score)"
   ]
  },
  {
   "cell_type": "markdown",
   "metadata": {},
   "source": [
    "## NaiveBayes"
   ]
  },
  {
   "cell_type": "code",
   "execution_count": 669,
   "metadata": {},
   "outputs": [
    {
     "name": "stdout",
     "output_type": "stream",
     "text": [
      "Number of mislabeled points out of a total 2694 points : 889\n"
     ]
    }
   ],
   "source": [
    "from sklearn.model_selection import train_test_split\n",
    "from sklearn.naive_bayes import GaussianNB\n",
    "\n",
    "X_train, X_test, y_train, y_test = train_test_split(X, y, test_size=0.5, random_state=0)\n",
    "gnb = GaussianNB()\n",
    "y_pred = gnb.fit(X_train, y_train).predict(X_test)\n",
    "print(\"Number of mislabeled points out of a total %d points : %d\" % (X_test.shape[0], (y_test != y_pred).sum()))"
   ]
  },
  {
   "cell_type": "code",
   "execution_count": 670,
   "metadata": {},
   "outputs": [
    {
     "name": "stdout",
     "output_type": "stream",
     "text": [
      "Confusion matrix:\n",
      "   | + | - \n",
      " + |627|259\n",
      " - |630|1178\n",
      "TPR: 0.499\n",
      "TNR: 0.820\n",
      "PPV: 0.708\n",
      "NPV: 0.652\n",
      "Accuracy: 0.670\n",
      "F1 score: 0.585\n",
      "Loss: 0.619\n"
     ]
    }
   ],
   "source": [
    "pred = y_pred\n",
    "target = y_test\n",
    "\n",
    "tp = np.sum(np.logical_and(np.array(np.equal(pred, target)).astype(bool), pred == 1))\n",
    "tn = np.sum(np.logical_and(np.array(np.equal(pred, target)).astype(bool), pred == 0))\n",
    "fp = np.sum(np.logical_and(np.array(np.not_equal(pred, target)).astype(bool), pred == 1))\n",
    "fn = np.sum(np.logical_and(np.array(np.not_equal(pred, target)).astype(bool), pred == 0))\n",
    "\n",
    "print(\"Confusion matrix:\")\n",
    "print(\"   | + | - \")\n",
    "print(\" + |\", tp ,\"|\", fp, sep='')\n",
    "print(\" - |\", fn ,\"|\", tn, sep='')\n",
    "\n",
    "TPR = tp/(tp + fn)\n",
    "TNR = tn/(tn + fp)\n",
    "PPV = tp/(tp + fp)\n",
    "NPV = tn/(tn + fn)\n",
    "\n",
    "print(\"TPR: %.3f\" % TPR)\n",
    "print(\"TNR: %.3f\" % TNR)\n",
    "print(\"PPV: %.3f\" % PPV)\n",
    "print(\"NPV: %.3f\" % NPV)\n",
    "\n",
    "acc = (tp + tn) / (tp + tn + fp + fn)\n",
    "f1_score = 2 * tp / (2*tp + fp + fn)\n",
    "\n",
    "print(\"Accuracy: %.3f\" % acc)\n",
    "print(\"F1 score: %.3f\" % f1_score)\n",
    "\n",
    "print(\"Loss: %.3f\" % loss)"
   ]
  },
  {
   "cell_type": "markdown",
   "metadata": {},
   "source": [
    "## CNN -- ResNet (предобученные веса)"
   ]
  },
  {
   "cell_type": "code",
   "execution_count": 81,
   "metadata": {},
   "outputs": [],
   "source": [
    "%matplotlib inline\n",
    "import torch\n",
    "import torch.nn as nn\n",
    "import torch.optim as optim\n",
    "from torch.optim import lr_scheduler\n",
    "from torch.autograd import Variable\n",
    "import numpy as np\n",
    "import torchvision\n",
    "from torchvision import datasets, models, transforms\n",
    "import matplotlib.pyplot as plt\n",
    "import time\n",
    "import os\n",
    "from torch.utils import data\n",
    "\n",
    "tensor_x = torch.Tensor(np.expand_dims(X_cnn_train, axis=1)).view(3609, 3, 500, 4).type(torch.FloatTensor) # transform to torch tensor\n",
    "tensor_y = torch.Tensor(y_cnn_train).type(torch.LongTensor)\n",
    "\n",
    "my_dataset = data.TensorDataset(tensor_x,tensor_y) # create your datset\n",
    "train_load = data.DataLoader(my_dataset,\n",
    "                            batch_size = 250,\n",
    "                            shuffle = True) # create your dataloader\n",
    "\n",
    "test_tensor_x = torch.Tensor(np.expand_dims(X_cnn_test, axis=1)).view(1778, 3, 500, 4).type(torch.FloatTensor) # transform to torch tensor\n",
    "test_tensor_y = torch.Tensor(y_cnn_test).type(torch.LongTensor)\n",
    "\n",
    "my_test_dataset = data.TensorDataset(test_tensor_x,test_tensor_y) # create your datset\n",
    "test_load = data.DataLoader(my_test_dataset,\n",
    "                            batch_size = 250,\n",
    "                            shuffle = True) # create your dataloader\n",
    "\n",
    "\n",
    "dataloaders = {'train': train_load, 'val': test_load}\n",
    "dataset_sizes = {'train': len(X_cnn_train), 'val': len(X_cnn_test)}\n",
    "\n",
    "use_gpu = torch.cuda.is_available()\n",
    "plt.ion()"
   ]
  },
  {
   "cell_type": "code",
   "execution_count": 82,
   "metadata": {},
   "outputs": [],
   "source": [
    "# обратите внимание на сохранение лучшей версии весов сети\n",
    "def train_model(model, criterion, optimizer, scheduler, num_epochs=25):\n",
    "    since = time.time()\n",
    "\n",
    "    best_model_wts = model.state_dict()\n",
    "    best_acc = 0.0\n",
    "\n",
    "    for epoch in range(num_epochs):\n",
    "        print('Epoch {}/{}'.format(epoch, num_epochs - 1))\n",
    "        print('-' * 10)\n",
    "\n",
    "        # Each epoch has a training and validation phase\n",
    "        for phase in ['train', 'val']:\n",
    "            if phase == 'train':\n",
    "                scheduler.step()\n",
    "                model.train(True)  # Set model to training mode\n",
    "            else:\n",
    "                model.train(False)  # Set model to evaluate mode\n",
    "\n",
    "            running_loss = 0.0\n",
    "            running_corrects = 0\n",
    "\n",
    "            # Iterate over data.\n",
    "            for data in dataloaders[phase]:\n",
    "                # get the inputs\n",
    "                inputs, labels = data\n",
    "\n",
    "                if use_gpu:\n",
    "                    inputs = inputs.cuda()\n",
    "                    labels = labels.cuda()\n",
    "\n",
    "                # zero the parameter gradients\n",
    "                optimizer.zero_grad()\n",
    "\n",
    "                # forward\n",
    "                outputs = model(inputs)\n",
    "                _, preds = torch.max(outputs, 1)\n",
    "                loss = criterion(outputs, labels)\n",
    "\n",
    "                # backward + optimize only if in training phase\n",
    "                if phase == 'train':\n",
    "                    loss.backward()\n",
    "                    optimizer.step()\n",
    "\n",
    "                # statistics\n",
    "                running_loss += loss.item()\n",
    "                running_corrects += torch.sum(preds == labels).type(torch.float)\n",
    "\n",
    "            epoch_loss = running_loss / dataset_sizes[phase]\n",
    "            epoch_acc = running_corrects / dataset_sizes[phase]\n",
    "\n",
    "            print('{} Loss: {:.4f} Acc: {:.4f}'.format(\n",
    "                phase, epoch_loss, epoch_acc))\n",
    "\n",
    "            # deep copy the model\n",
    "            if phase == 'val' and epoch_acc > best_acc:\n",
    "                best_acc = epoch_acc\n",
    "                best_model_wts = model.state_dict()\n",
    "        \n",
    "        time_elapsed = time.time() - since\n",
    "        print('Elapsed {:.0f}m {:.0f}s\\n'.format(time_elapsed // 60, time_elapsed % 60))\n",
    "\n",
    "    time_elapsed = time.time() - since\n",
    "    print('Training complete in {:.0f}m {:.0f}s'.format(\n",
    "        time_elapsed // 60, time_elapsed % 60))\n",
    "    print('Best val Acc: {:4f}'.format(best_acc))\n",
    "\n",
    "    # load best model weights\n",
    "    model.load_state_dict(best_model_wts)\n",
    "    return model"
   ]
  },
  {
   "cell_type": "code",
   "execution_count": 83,
   "metadata": {},
   "outputs": [
    {
     "name": "stdout",
     "output_type": "stream",
     "text": [
      "Epoch 0/24\n",
      "----------\n",
      "train Loss: 0.0030 Acc: 0.5021\n",
      "val Loss: 0.0032 Acc: 0.5169\n",
      "Elapsed 0m 27s\n",
      "\n",
      "Epoch 1/24\n",
      "----------\n",
      "train Loss: 0.0029 Acc: 0.5456\n",
      "val Loss: 0.0032 Acc: 0.5028\n",
      "Elapsed 0m 54s\n",
      "\n",
      "Epoch 2/24\n",
      "----------\n",
      "train Loss: 0.0028 Acc: 0.5816\n",
      "val Loss: 0.0032 Acc: 0.5360\n",
      "Elapsed 1m 21s\n",
      "\n",
      "Epoch 3/24\n",
      "----------\n",
      "train Loss: 0.0027 Acc: 0.6076\n",
      "val Loss: 0.0030 Acc: 0.5894\n",
      "Elapsed 1m 48s\n",
      "\n",
      "Epoch 4/24\n",
      "----------\n",
      "train Loss: 0.0027 Acc: 0.6240\n",
      "val Loss: 0.0029 Acc: 0.6057\n",
      "Elapsed 2m 15s\n",
      "\n",
      "Epoch 5/24\n",
      "----------\n",
      "train Loss: 0.0027 Acc: 0.6331\n",
      "val Loss: 0.0030 Acc: 0.6091\n",
      "Elapsed 2m 42s\n",
      "\n",
      "Epoch 6/24\n",
      "----------\n",
      "train Loss: 0.0027 Acc: 0.6409\n",
      "val Loss: 0.0030 Acc: 0.6085\n",
      "Elapsed 3m 9s\n",
      "\n",
      "Epoch 7/24\n",
      "----------\n",
      "train Loss: 0.0027 Acc: 0.6437\n",
      "val Loss: 0.0029 Acc: 0.6052\n",
      "Elapsed 3m 36s\n",
      "\n",
      "Epoch 8/24\n",
      "----------\n",
      "train Loss: 0.0026 Acc: 0.6431\n",
      "val Loss: 0.0030 Acc: 0.6091\n",
      "Elapsed 4m 3s\n",
      "\n",
      "Epoch 9/24\n",
      "----------\n",
      "train Loss: 0.0026 Acc: 0.6453\n",
      "val Loss: 0.0030 Acc: 0.6108\n",
      "Elapsed 4m 30s\n",
      "\n",
      "Epoch 10/24\n",
      "----------\n",
      "train Loss: 0.0027 Acc: 0.6417\n",
      "val Loss: 0.0029 Acc: 0.6102\n",
      "Elapsed 4m 58s\n",
      "\n",
      "Epoch 11/24\n",
      "----------\n",
      "train Loss: 0.0026 Acc: 0.6428\n",
      "val Loss: 0.0030 Acc: 0.6130\n",
      "Elapsed 5m 25s\n",
      "\n",
      "Epoch 12/24\n",
      "----------\n",
      "train Loss: 0.0026 Acc: 0.6412\n",
      "val Loss: 0.0030 Acc: 0.6153\n",
      "Elapsed 5m 52s\n",
      "\n",
      "Epoch 13/24\n",
      "----------\n",
      "train Loss: 0.0026 Acc: 0.6456\n",
      "val Loss: 0.0030 Acc: 0.6153\n",
      "Elapsed 6m 19s\n",
      "\n",
      "Epoch 14/24\n",
      "----------\n",
      "train Loss: 0.0026 Acc: 0.6462\n",
      "val Loss: 0.0030 Acc: 0.6114\n",
      "Elapsed 6m 46s\n",
      "\n",
      "Epoch 15/24\n",
      "----------\n",
      "train Loss: 0.0026 Acc: 0.6470\n",
      "val Loss: 0.0029 Acc: 0.6147\n",
      "Elapsed 7m 13s\n",
      "\n",
      "Epoch 16/24\n",
      "----------\n",
      "train Loss: 0.0026 Acc: 0.6459\n",
      "val Loss: 0.0030 Acc: 0.6119\n",
      "Elapsed 7m 40s\n",
      "\n",
      "Epoch 17/24\n",
      "----------\n",
      "train Loss: 0.0026 Acc: 0.6492\n",
      "val Loss: 0.0030 Acc: 0.6114\n",
      "Elapsed 8m 7s\n",
      "\n",
      "Epoch 18/24\n",
      "----------\n",
      "train Loss: 0.0026 Acc: 0.6415\n",
      "val Loss: 0.0030 Acc: 0.6147\n",
      "Elapsed 8m 33s\n",
      "\n",
      "Epoch 19/24\n",
      "----------\n",
      "train Loss: 0.0026 Acc: 0.6415\n",
      "val Loss: 0.0030 Acc: 0.6130\n",
      "Elapsed 9m 0s\n",
      "\n",
      "Epoch 20/24\n",
      "----------\n",
      "train Loss: 0.0026 Acc: 0.6464\n",
      "val Loss: 0.0030 Acc: 0.6142\n",
      "Elapsed 9m 28s\n",
      "\n",
      "Epoch 21/24\n",
      "----------\n",
      "train Loss: 0.0026 Acc: 0.6456\n",
      "val Loss: 0.0030 Acc: 0.6114\n",
      "Elapsed 9m 55s\n",
      "\n",
      "Epoch 22/24\n",
      "----------\n",
      "train Loss: 0.0026 Acc: 0.6459\n",
      "val Loss: 0.0030 Acc: 0.6119\n",
      "Elapsed 10m 22s\n",
      "\n",
      "Epoch 23/24\n",
      "----------\n",
      "train Loss: 0.0026 Acc: 0.6431\n",
      "val Loss: 0.0031 Acc: 0.6114\n",
      "Elapsed 10m 49s\n",
      "\n",
      "Epoch 24/24\n",
      "----------\n",
      "train Loss: 0.0026 Acc: 0.6437\n",
      "val Loss: 0.0029 Acc: 0.6125\n",
      "Elapsed 11m 17s\n",
      "\n",
      "Training complete in 11m 17s\n",
      "Best val Acc: 0.615298\n"
     ]
    }
   ],
   "source": [
    "model_ft = models.resnet18(pretrained=True)\n",
    "\n",
    "model_ft.fc = nn.Linear(in_features=512, out_features=2, bias=True)\n",
    "\n",
    "params_to_train = []\n",
    "for name, param in model_ft.named_parameters():\n",
    "    if name[:2] == 'fc':\n",
    "        params_to_train.append(param)\n",
    "        param.requires_grad = True\n",
    "    else:\n",
    "        param.requires_grad = False\n",
    "\n",
    "if use_gpu:\n",
    "    model_ft = model_ft.cuda()\n",
    "\n",
    "criterion = nn.CrossEntropyLoss()\n",
    "\n",
    "optimizer_ft = optim.SGD(params_to_train, lr=0.001, momentum=0.9)\n",
    "exp_lr_scheduler = lr_scheduler.StepLR(optimizer_ft, step_size=7, gamma=0.1)\n",
    "model_ft = train_model(model_ft, criterion, optimizer_ft, exp_lr_scheduler, num_epochs=25)"
   ]
  },
  {
   "cell_type": "markdown",
   "metadata": {},
   "source": [
    "## CNN"
   ]
  },
  {
   "cell_type": "markdown",
   "metadata": {},
   "source": [
    "Перед запуском дальнейшего кода нужно уменьшить область наблюдаемых нуклеотидов до 500. Поскольку выборка маленькая, большое число параметров не сможет нормально обучиться на такой выборке."
   ]
  },
  {
   "cell_type": "code",
   "execution_count": 548,
   "metadata": {},
   "outputs": [],
   "source": [
    "X_cnn_train = X_cnn_train / np.linalg.norm(X_cnn_train) * 100\n",
    "X_cnn_test = X_cnn_test / np.linalg.norm(X_cnn_test) * 100"
   ]
  },
  {
   "cell_type": "code",
   "execution_count": 549,
   "metadata": {},
   "outputs": [],
   "source": [
    "from tqdm import trange\n",
    "import torch.nn.functional as F\n",
    "from IPython.display import clear_output\n",
    "\n",
    "def iterate_minibatches(inputs, targets, batchsize, shuffle=False):\n",
    "    assert len(inputs) == len(targets)\n",
    "    if shuffle:\n",
    "        indices = np.random.permutation(len(inputs))\n",
    "    for start_idx in trange(0, len(inputs) - batchsize + 1, batchsize):\n",
    "        if shuffle:\n",
    "            excerpt = indices[start_idx:start_idx + batchsize]\n",
    "        else:\n",
    "            excerpt = slice(start_idx, start_idx + batchsize)\n",
    "        yield inputs[excerpt], targets[excerpt]\n",
    "\n",
    "def train_epoch(model, optimizer, batchsize=100):\n",
    "    loss_log, acc_log = [], []\n",
    "    model.train()\n",
    "    for x_batch, y_batch in iterate_minibatches(X_cnn_train, y_cnn_train, batchsize=batchsize, shuffle=True):\n",
    "        data = torch.from_numpy(x_batch.astype(np.float32))\n",
    "        target = torch.from_numpy(y_batch.astype(np.int64))\n",
    "\n",
    "        optimizer.zero_grad()\n",
    "        output = model(data)\n",
    "        \n",
    "        pred = torch.max(output, 1)[1].numpy()\n",
    "        acc = np.mean(pred == y_batch)\n",
    "        acc_log.append(acc)\n",
    "        \n",
    "        loss = F.nll_loss(output, target)\n",
    "        loss.backward()\n",
    "        optimizer.step()\n",
    "        loss = loss.item()\n",
    "        loss_log.append(loss)\n",
    "    return loss_log, acc_log\n",
    "\n",
    "def test(model):\n",
    "    loss_log, acc_log = [], []\n",
    "    model.eval()\n",
    "    for x_batch, y_batch in iterate_minibatches(X_cnn_test, y_cnn_test, batchsize=100, shuffle=True):\n",
    "        data = torch.from_numpy(x_batch.astype(np.float32))\n",
    "        target = torch.from_numpy(y_batch.astype(np.int64))\n",
    "\n",
    "        output = model(data)\n",
    "        loss = F.nll_loss(output, target)\n",
    "        \n",
    "        pred = torch.max(output, 1)[1].numpy()\n",
    "        acc = np.mean(pred == y_batch)\n",
    "        acc_log.append(acc)\n",
    "        \n",
    "        loss = loss.item()\n",
    "        loss_log.append(loss)\n",
    "    return loss_log, acc_log\n",
    "\n",
    "def plot_history(train_history, val_history, title='loss'):\n",
    "    plt.figure()\n",
    "    plt.title('{}'.format(title))\n",
    "    plt.plot(train_history, label='train', zorder=1)\n",
    "    \n",
    "    points = np.array(val_history)\n",
    "    \n",
    "    plt.scatter(points[:, 0], points[:, 1], marker='+', s=180, c='orange', label='val', zorder=2)\n",
    "    plt.xlabel('train steps')\n",
    "    \n",
    "    plt.legend(loc='best')\n",
    "    plt.grid()\n",
    "\n",
    "    plt.show()\n",
    "    \n",
    "def train(model, opt, n_epochs):\n",
    "    train_log, train_acc_log = [], []\n",
    "    val_log, val_acc_log = [], []\n",
    "\n",
    "    batchsize = 32\n",
    "\n",
    "    for epoch in range(n_epochs):\n",
    "        print(\"Epoch {} of {}\".format(epoch, n_epochs))\n",
    "        train_loss, train_acc = train_epoch(model, opt, batchsize=batchsize)\n",
    "\n",
    "        val_loss, val_acc = test(model)\n",
    "\n",
    "        train_log.extend(train_loss)\n",
    "        train_acc_log.extend(train_acc)\n",
    "\n",
    "        steps = len(X_cnn_train) / batchsize\n",
    "        val_log.append((steps * (epoch + 1), np.mean(val_loss)))\n",
    "        val_acc_log.append((steps * (epoch + 1), np.mean(val_acc)))\n",
    "\n",
    "        clear_output()\n",
    "        plot_history(train_log, val_log)    \n",
    "        plot_history(train_acc_log, val_acc_log, title='accuracy')\n",
    "        print(\"Epoch {} error = {:.2%}\".format(epoch, 1 - val_acc_log[-1][1]))\n",
    "            \n",
    "    print(\"Final error: {:.2%}\".format(1 - val_acc_log[-1][1]))\n",
    "    return (1 - val_acc_log[-1][1])"
   ]
  },
  {
   "cell_type": "code",
   "execution_count": 584,
   "metadata": {},
   "outputs": [],
   "source": [
    "class otladka(nn.Module):\n",
    "    def forward(self, x):\n",
    "        print(x.shape)\n",
    "        return x\n",
    "\n",
    "class ConvNet(nn.Module):\n",
    "    def __init__(self):\n",
    "        super().__init__()        \n",
    "        \n",
    "        self.features = nn.Sequential(\n",
    "            nn.Conv1d(500, 10, (1, 4), padding=1),\n",
    "            nn.ReLU(True),\n",
    "            nn.MaxPool2d(3)\n",
    "        )\n",
    "        \n",
    "        self.classifier = nn.Linear(10, 2)\n",
    "        \n",
    "    def forward(self, x):\n",
    "        ft = self.features(x.view(-1, 500, 1, 4))\n",
    "        out = self.classifier(ft.view(-1, 10))\n",
    "        return F.log_softmax(out, dim=-1)"
   ]
  },
  {
   "cell_type": "code",
   "execution_count": 595,
   "metadata": {},
   "outputs": [
    {
     "name": "stdout",
     "output_type": "stream",
     "text": [
      "Total number of trainable parameters: 20032\n"
     ]
    }
   ],
   "source": [
    "def count_parameters(model):\n",
    "    model_parameters = filter(lambda p: p.requires_grad, model.parameters())\n",
    "    return sum([np.prod(p.size()) for p in model_parameters])\n",
    "\n",
    "model = ConvNet()\n",
    "print(\"Total number of trainable parameters:\", count_parameters(model))"
   ]
  },
  {
   "cell_type": "code",
   "execution_count": 596,
   "metadata": {},
   "outputs": [
    {
     "data": {
      "image/png": "[encoded data removed]",
      "text/plain": [
       "<Figure size 432x288 with 1 Axes>"
      ]
     },
     "metadata": {
      "needs_background": "light"
     },
     "output_type": "display_data"
    },
    {
     "data": {
      "image/png": "[encoded data removed]",
      "text/plain": [
       "<Figure size 432x288 with 1 Axes>"
      ]
     },
     "metadata": {
      "needs_background": "light"
     },
     "output_type": "display_data"
    },
    {
     "name": "stdout",
     "output_type": "stream",
     "text": [
      "Epoch 4 error = 33.06%\n",
      "Final error: 33.06%\n",
      "CPU times: user 9.26 s, sys: 2.79 s, total: 12 s\n",
      "Wall time: 6.07 s\n"
     ]
    }
   ],
   "source": [
    "%%time\n",
    "\n",
    "opt = torch.optim.RMSprop(model.parameters(), lr=0.001)\n",
    "train(model, opt, 5)"
   ]
  },
  {
   "cell_type": "code",
   "execution_count": 597,
   "metadata": {},
   "outputs": [],
   "source": [
    "data = torch.from_numpy(X_cnn_test.astype(np.float32))\n",
    "target = torch.from_numpy(y_cnn_test.astype(np.int64))\n",
    "\n",
    "output = model(data)\n",
    "loss = F.nll_loss(output, target)        \n",
    "pred = torch.max(output, 1)[1].numpy()"
   ]
  },
  {
   "cell_type": "code",
   "execution_count": 600,
   "metadata": {},
   "outputs": [
    {
     "name": "stdout",
     "output_type": "stream",
     "text": [
      "Confusion matrix:\n",
      "   | + | - \n",
      " + |561|291\n",
      " - |295|634\n",
      "TPR: 0.655\n",
      "TNR: 0.685\n",
      "PPV: 0.658\n",
      "NPV: 0.682\n",
      "Accuracy: 0.671\n",
      "F1 score: 0.657\n",
      "Loss: 0.619\n"
     ]
    }
   ],
   "source": [
    "tp = np.sum(np.logical_and(np.array(np.equal(pred, target)).astype(bool), pred == 1))\n",
    "tn = np.sum(np.logical_and(np.array(np.equal(pred, target)).astype(bool), pred == 0))\n",
    "fp = np.sum(np.logical_and(np.array(np.not_equal(pred, target)).astype(bool), pred == 1))\n",
    "fn = np.sum(np.logical_and(np.array(np.not_equal(pred, target)).astype(bool), pred == 0))\n",
    "\n",
    "print(\"Confusion matrix:\")\n",
    "print(\"   | + | - \")\n",
    "print(\" + |\", tp ,\"|\", fp, sep='')\n",
    "print(\" - |\", fn ,\"|\", tn, sep='')\n",
    "\n",
    "TPR = tp/(tp + fn)\n",
    "TNR = tn/(tn + fp)\n",
    "PPV = tp/(tp + fp)\n",
    "NPV = tn/(tn + fn)\n",
    "\n",
    "print(\"TPR: %.3f\" % TPR)\n",
    "print(\"TNR: %.3f\" % TNR)\n",
    "print(\"PPV: %.3f\" % PPV)\n",
    "print(\"NPV: %.3f\" % NPV)\n",
    "\n",
    "acc = (tp + tn) / (tp + tn + fp + fn)\n",
    "f1_score = 2 * tp / (2*tp + fp + fn)\n",
    "\n",
    "print(\"Accuracy: %.3f\" % acc)\n",
    "print(\"F1 score: %.3f\" % f1_score)\n",
    "\n",
    "print(\"Loss: %.3f\" % loss)"
   ]
  }
 ],
 "metadata": {
  "kernelspec": {
   "display_name": "Python 3",
   "language": "python",
   "name": "python3"
  },
  "language_info": {
   "codemirror_mode": {
    "name": "ipython",
    "version": 3
   },
   "file_extension": ".py",
   "mimetype": "text/x-python",
   "name": "python",
   "nbconvert_exporter": "python",
   "pygments_lexer": "ipython3",
   "version": "3.7.6"
  }
 },
 "nbformat": 4,
 "nbformat_minor": 2
}
